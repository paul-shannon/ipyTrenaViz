{
 "cells": [
  {
   "cell_type": "code",
   "execution_count": 1,
   "metadata": {},
   "outputs": [],
   "source": [
    "from ipyTrenaViz import *"
   ]
  },
  {
   "cell_type": "code",
   "execution_count": 2,
   "metadata": {},
   "outputs": [
    {
     "data": {
      "application/vnd.jupyter.widget-view+json": {
       "model_id": "bdf2f35938374e34bb7f66b9bebbb052",
       "version_major": 2,
       "version_minor": 0
      },
      "text/plain": [
       "A Jupyter Widget"
      ]
     },
     "metadata": {},
     "output_type": "display_data"
    }
   ],
   "source": [
    "tv = ipyTrenaViz()\n",
    "tv"
   ]
  },
  {
   "cell_type": "code",
   "execution_count": 3,
   "metadata": {},
   "outputs": [],
   "source": [
    "tv.setGenome(\"hg38\")"
   ]
  },
  {
   "cell_type": "code",
   "execution_count": 3,
   "metadata": {},
   "outputs": [],
   "source": [
    "tv.setWidgetHeight(740)"
   ]
  },
  {
   "cell_type": "code",
   "execution_count": 10,
   "metadata": {},
   "outputs": [],
   "source": [
    "testFile = \"tmp/g-5nodes4edges.json\";\n",
    "modelName = \"smallTestGraph\"\n",
    "tv.displayGraphFromFile(testFile, modelName)\n",
    "tv.setStyle(\"tmp/trenaVizStyle.js\")"
   ]
  },
  {
   "cell_type": "code",
   "execution_count": 12,
   "metadata": {},
   "outputs": [],
   "source": [
    "multiModelGraphFile = \"tmp/tCellExhaustion.6model.graph.json\"\n",
    "modelNames = [\"allMousePFMs97\", \"allMousePFMs90\", \"JMousePFMs90\", \"allMousePFMs-90-early\", \"allMousePFMs-90-late\",\"allDNAmousePFMs90\"]\n",
    "tv.displayGraphFromFile(multiModelGraphFile, modelNames)\n",
    "tv.setStyle(\"tmp/trenaVizStyle.js\")"
   ]
  },
  {
   "cell_type": "code",
   "execution_count": 5,
   "metadata": {},
   "outputs": [],
   "source": [
    "multiModelGraphFile = \"small-double-collagen-model.json\"\n",
    "modelNames = [\"left\", \"right\"]\n",
    "tv.displayGraphFromFile(multiModelGraphFile, modelNames)\n",
    "tv.setStyle(\"tmp/trenaVizStyle.js\")"
   ]
  },
  {
   "cell_type": "code",
   "execution_count": 14,
   "metadata": {},
   "outputs": [],
   "source": [
    "tv.showGenomicRegion(\"COL1A1\")"
   ]
  },
  {
   "cell_type": "code",
   "execution_count": 15,
   "metadata": {},
   "outputs": [],
   "source": [
    "tv.showGenomicRegion(\"chr17:50,201,563-50,201,728\")"
   ]
  },
  {
   "cell_type": "code",
   "execution_count": 8,
   "metadata": {},
   "outputs": [],
   "source": [
    "tv.raiseTab(\"2\")"
   ]
  },
  {
   "cell_type": "code",
   "execution_count": 9,
   "metadata": {},
   "outputs": [],
   "source": [
    "tv.raiseTab(\"1\")"
   ]
  },
  {
   "cell_type": "code",
   "execution_count": 16,
   "metadata": {},
   "outputs": [
    {
     "data": {
      "text/plain": [
       "{'chromLocString': 'chr17:50,201,563-50,201,728', 'requestCount': 10}"
      ]
     },
     "execution_count": 16,
     "metadata": {},
     "output_type": "execute_result"
    }
   ],
   "source": [
    "tv.getBrowserState()"
   ]
  },
  {
   "cell_type": "code",
   "execution_count": 17,
   "metadata": {},
   "outputs": [
    {
     "data": {
      "text/plain": [
       "10"
      ]
     },
     "execution_count": 17,
     "metadata": {},
     "output_type": "execute_result"
    }
   ],
   "source": [
    "tv.getRequestCount()"
   ]
  },
  {
   "cell_type": "code",
   "execution_count": 19,
   "metadata": {},
   "outputs": [],
   "source": [
    "import pandas as pd\n",
    "base = 50201563   # near tss of col1a1\n",
    "tbl = pd.DataFrame([[\"chr17\", base+10,  base+100,  \"fp1\", 9.9],\n",
    "                    [\"chr17\", base+90,  base+130,  \"fp2\", 0.5],\n",
    "                    [\"chr17\", base+45,  base+80,   \"fp3\", 0.9],\n",
    "                    [\"chr17\", base+112, base+140,  \"fp4\", 32],\n",
    "                   ])"
   ]
  },
  {
   "cell_type": "code",
   "execution_count": 20,
   "metadata": {},
   "outputs": [],
   "source": [
    "tv.addBedTrackFromDataFrame(tbl, \"testTrack\", \"EXPANDED\", \"green\", 200)"
   ]
  },
  {
   "cell_type": "code",
   "execution_count": null,
   "metadata": {},
   "outputs": [],
   "source": []
  }
 ],
 "metadata": {
  "kernelspec": {
   "display_name": "Python 3",
   "language": "python",
   "name": "python3"
  },
  "language_info": {
   "codemirror_mode": {
    "name": "ipython",
    "version": 3
   },
   "file_extension": ".py",
   "mimetype": "text/x-python",
   "name": "python",
   "nbconvert_exporter": "python",
   "pygments_lexer": "ipython3",
   "version": "3.6.0"
  }
 },
 "nbformat": 4,
 "nbformat_minor": 2
}
