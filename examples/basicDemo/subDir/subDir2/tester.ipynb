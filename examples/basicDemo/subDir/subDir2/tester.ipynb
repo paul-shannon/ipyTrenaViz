{
 "cells": [
  {
   "cell_type": "code",
   "execution_count": 1,
   "metadata": {},
   "outputs": [
    {
     "data": {
      "text/plain": [
       "'/Users/paul/github/ipyTrenaViz/examples/basicDemo/subDir/subDir2'"
      ]
     },
     "execution_count": 1,
     "metadata": {},
     "output_type": "execute_result"
    }
   ],
   "source": [
    "import os\n",
    "os.getcwd()"
   ]
  },
  {
   "cell_type": "code",
   "execution_count": 2,
   "metadata": {},
   "outputs": [],
   "source": [
    "from ipyTrenaViz import *"
   ]
  },
  {
   "cell_type": "code",
   "execution_count": 3,
   "metadata": {},
   "outputs": [
    {
     "data": {
      "application/vnd.jupyter.widget-view+json": {
       "model_id": "5d85deb177104bed8c1e34a866733d24",
       "version_major": 2,
       "version_minor": 0
      },
      "text/plain": [
       "A Jupyter Widget"
      ]
     },
     "metadata": {},
     "output_type": "display_data"
    }
   ],
   "source": [
    "app = ipyTrenaViz()\n",
    "app"
   ]
  },
  {
   "cell_type": "code",
   "execution_count": 4,
   "metadata": {},
   "outputs": [],
   "source": [
    "app.setGenome(\"hg38\")"
   ]
  },
  {
   "cell_type": "code",
   "execution_count": 3,
   "metadata": {},
   "outputs": [],
   "source": [
    "app.setWidgetHeight(740)"
   ]
  },
  {
   "cell_type": "code",
   "execution_count": 20,
   "metadata": {},
   "outputs": [],
   "source": [
    "testFile = \"../../tmp/g-5nodes4edges.json\";\n",
    "modelName = \"smallTestGraph\"\n",
    "app.displayGraphFromFile(testFile, modelName)\n",
    "app.setStyle(\"../../tmp/trenaVizStyle.js\")"
   ]
  },
  {
   "cell_type": "code",
   "execution_count": 21,
   "metadata": {},
   "outputs": [],
   "source": [
    "multiModelGraphFile = \"../../tmp/tCellExhaustion.6model.graph.json\"\n",
    "modelNames = [\"allMousePFMs97\", \"allMousePFMs90\", \"JMousePFMs90\", \"allMousePFMs-90-early\", \"allMousePFMs-90-late\",\"allDNAmousePFMs90\"]\n",
    "app.displayGraphFromFile(multiModelGraphFile, modelNames)\n",
    "app.setStyle(\"../../tmp/trenaVizStyle.js\")"
   ]
  },
  {
   "cell_type": "code",
   "execution_count": 22,
   "metadata": {},
   "outputs": [],
   "source": [
    "app.showGenomicRegion(\"COL1A1\")"
   ]
  },
  {
   "cell_type": "code",
   "execution_count": 23,
   "metadata": {},
   "outputs": [],
   "source": [
    "app.showGenomicRegion(\"chr17:50,201,563-50,201,728\")"
   ]
  },
  {
   "cell_type": "code",
   "execution_count": 11,
   "metadata": {},
   "outputs": [],
   "source": [
    "app.raiseTab(\"2\")"
   ]
  },
  {
   "cell_type": "code",
   "execution_count": 12,
   "metadata": {},
   "outputs": [],
   "source": [
    "app.raiseTab(\"1\")"
   ]
  },
  {
   "cell_type": "code",
   "execution_count": 13,
   "metadata": {},
   "outputs": [
    {
     "data": {
      "text/plain": [
       "{'chromLocString': 'chr17:50,201,563-50,201,728', 'requestCount': 14}"
      ]
     },
     "execution_count": 13,
     "metadata": {},
     "output_type": "execute_result"
    }
   ],
   "source": [
    "app.getBrowserState()"
   ]
  },
  {
   "cell_type": "code",
   "execution_count": 14,
   "metadata": {},
   "outputs": [
    {
     "data": {
      "text/plain": [
       "14"
      ]
     },
     "execution_count": 14,
     "metadata": {},
     "output_type": "execute_result"
    }
   ],
   "source": [
    "app.getRequestCount()"
   ]
  },
  {
   "cell_type": "code",
   "execution_count": 24,
   "metadata": {},
   "outputs": [],
   "source": [
    "import pandas as pd\n",
    "base = 50201563   # near tss of col1a1\n",
    "tbl = pd.DataFrame([[\"chr17\", base+10,  base+100,  \"fp1\", 9.9],\n",
    "                    [\"chr17\", base+90,  base+130,  \"fp2\", 0.5],\n",
    "                    [\"chr17\", base+45,  base+80,   \"fp3\", 0.9],\n",
    "                    [\"chr17\", base+112, base+140,  \"fp4\", 32],\n",
    "                   ])"
   ]
  },
  {
   "cell_type": "code",
   "execution_count": 25,
   "metadata": {},
   "outputs": [],
   "source": [
    "app.addBedTrackFromDataFrame(tbl, \"testTrack\", \"EXPANDED\", \"green\", 200)"
   ]
  },
  {
   "cell_type": "code",
   "execution_count": null,
   "metadata": {},
   "outputs": [],
   "source": []
  }
 ],
 "metadata": {
  "kernelspec": {
   "display_name": "Python 3",
   "language": "python",
   "name": "python3"
  },
  "language_info": {
   "codemirror_mode": {
    "name": "ipython",
    "version": 3
   },
   "file_extension": ".py",
   "mimetype": "text/x-python",
   "name": "python",
   "nbconvert_exporter": "python",
   "pygments_lexer": "ipython3",
   "version": "3.6.0"
  }
 },
 "nbformat": 4,
 "nbformat_minor": 2
}
